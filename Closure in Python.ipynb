{
 "cells": [
  {
   "cell_type": "markdown",
   "metadata": {},
   "source": [
    "## CLOSURE IN PYTHON\n",
    "\n",
    "The closure can be defined as"
   ]
  },
  {
   "cell_type": "code",
   "execution_count": 1,
   "metadata": {},
   "outputs": [
    {
     "name": "stdout",
     "output_type": "stream",
     "text": [
      "Hello\n"
     ]
    }
   ],
   "source": [
    "def outer_func():\n",
    "    message = \"Hello\"\n",
    "    \n",
    "    def inner_func():\n",
    "        print(message) # Here the variable message can be accessed using the inner_func()\n",
    "        # The variable message is called as the \"free\" variable\n",
    "    \n",
    "    return inner_func()\n",
    "\n",
    "outer_func()"
   ]
  },
  {
   "cell_type": "markdown",
   "metadata": {},
   "source": [
    "### ATTEMPT 2\n",
    "\n",
    "Consider this in which the return function only returns the `inner_func` without calling the `inner_func()`."
   ]
  },
  {
   "cell_type": "code",
   "execution_count": 2,
   "metadata": {},
   "outputs": [
    {
     "data": {
      "text/plain": [
       "<function __main__.outer_func.<locals>.inner_func()>"
      ]
     },
     "execution_count": 2,
     "metadata": {},
     "output_type": "execute_result"
    }
   ],
   "source": [
    "def outer_func():\n",
    "    message = \"Hello\"\n",
    "    \n",
    "    def inner_func():\n",
    "        print(message)\n",
    "    \n",
    "    return inner_func\n",
    "\n",
    "outer_func()"
   ]
  },
  {
   "cell_type": "markdown",
   "metadata": {},
   "source": [
    "As it can be seen the `outer_func()` call returns the `inner_func()` function itself. So, we can assign the function `outer_func` to `my_func` (a variable) and use it instead of the `inner_func()` function."
   ]
  },
  {
   "cell_type": "code",
   "execution_count": 3,
   "metadata": {},
   "outputs": [
    {
     "name": "stdout",
     "output_type": "stream",
     "text": [
      "inner_func\n"
     ]
    }
   ],
   "source": [
    "my_func = outer_func() # Now, my_func is the inner_func() function\n",
    "\n",
    "# Printing the name of the my_func variable/function\n",
    "print(my_func.__name__)"
   ]
  },
  {
   "cell_type": "code",
   "execution_count": 4,
   "metadata": {},
   "outputs": [
    {
     "name": "stdout",
     "output_type": "stream",
     "text": [
      "Hello\n"
     ]
    }
   ],
   "source": [
    "# We can exectue the inner_func() using the my_func variable\n",
    "my_func()# will print hello"
   ]
  },
  {
   "cell_type": "markdown",
   "metadata": {},
   "source": [
    "A closure is an **inner function** that remembers and has access to the variables in the local scope in which it was created even after the outer function has finished executing."
   ]
  },
  {
   "cell_type": "markdown",
   "metadata": {},
   "source": [
    "### ATTEMPT 3\n",
    "Adding parameters to the outer function"
   ]
  },
  {
   "cell_type": "code",
   "execution_count": 5,
   "metadata": {},
   "outputs": [],
   "source": [
    "def outer_func(msg):\n",
    "    message = msg\n",
    "    \n",
    "    def inner_func():\n",
    "        print(message)\n",
    "    \n",
    "    return inner_func\n",
    "\n",
    "hi_func = outer_func(\"Hi\") # Passing message \"Hi\"\n",
    "hello_func = outer_func(\"Hello\") # Passing message \"Hello\""
   ]
  },
  {
   "cell_type": "code",
   "execution_count": 6,
   "metadata": {},
   "outputs": [
    {
     "name": "stdout",
     "output_type": "stream",
     "text": [
      "Hi\n",
      "Hello\n"
     ]
    }
   ],
   "source": [
    "hi_func()\n",
    "hello_func()"
   ]
  },
  {
   "cell_type": "markdown",
   "metadata": {},
   "source": [
    "One thing to notice here that the inner function doesn't take any arguments. So when we execute these functions we only need to add empty parameters like `hi_func()` and `hello_func()`.\n",
    "\n",
    "A closure **closes over its free variables** from the environment and in this case `message` would be that free variable. "
   ]
  },
  {
   "cell_type": "markdown",
   "metadata": {},
   "source": [
    "### ATTEMPT 4\n",
    "Using a more complex function to show closures"
   ]
  },
  {
   "cell_type": "code",
   "execution_count": 7,
   "metadata": {},
   "outputs": [
    {
     "name": "stdout",
     "output_type": "stream",
     "text": [
      "6\n",
      "9\n",
      "5\n",
      "10\n"
     ]
    }
   ],
   "source": [
    "import logging\n",
    "logging.basicConfig(filename=\"example.log\", level=logging.INFO)\n",
    "def logger(func):\n",
    "    def log_func(*args):\n",
    "        logging.info('Running \"{}\" with arguments {}'.format(func.__name__, args))\n",
    "        print(func(*args))\n",
    "    return log_func\n",
    "\n",
    "def add(x, y):\n",
    "    return x + y\n",
    "\n",
    "def sub(x, y):\n",
    "    return x - y\n",
    "\n",
    "add_logger = logger(add)\n",
    "sub_logger = logger(sub)\n",
    "\n",
    "add_logger(3, 3) # Prints 6\n",
    "add_logger(4, 5) # Prints 9\n",
    "\n",
    "sub_logger(10, 5) # Prints 5\n",
    "sub_logger(20, 10) # Prints 10"
   ]
  },
  {
   "cell_type": "markdown",
   "metadata": {},
   "source": [
    "This is the contents of the example.log txt file\n",
    "<br>\n",
    "INFO:root:Running \"add\" with arguments (3, 3)\n",
    "<br>\n",
    "INFO:root:Running \"add\" with arguments (4, 5)\n",
    "<br>\n",
    "INFO:root:Running \"sub\" with arguments (10, 5)\n",
    "<br>\n",
    "INFO:root:Running \"sub\" with arguments (20, 10)\n",
    "\n",
    "Hence Closures can be used for logging the functions. Although the `add()` and `subract()` functions can be called seperately, using the concept of closure proved to be beneficial."
   ]
  }
 ],
 "metadata": {
  "kernelspec": {
   "display_name": "Python 3",
   "language": "python",
   "name": "python3"
  },
  "language_info": {
   "codemirror_mode": {
    "name": "ipython",
    "version": 3
   },
   "file_extension": ".py",
   "mimetype": "text/x-python",
   "name": "python",
   "nbconvert_exporter": "python",
   "pygments_lexer": "ipython3",
   "version": "3.6.8"
  }
 },
 "nbformat": 4,
 "nbformat_minor": 2
}
