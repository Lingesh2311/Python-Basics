{
 "cells": [
  {
   "cell_type": "code",
   "execution_count": 1,
   "metadata": {},
   "outputs": [],
   "source": [
    "'''\n",
    "1. Get the file a.csv from S3 bucket\n",
    "2. Split a.csv to a1.csv and a2.csv\n",
    "3. Combine a1.csv and a2.csv to b.csv\n",
    "4. Upload the files a1.csv, a2.csv and b.csv to the bucket\n",
    "'''\n",
    "\n",
    "import pandas as pd\n",
    "import boto3\n",
    "from boto3.session import Session\n",
    "\n",
    "KEY_ID = 'your_access_key'\n",
    "SECRET_KEY = 'your_secret_key'\n",
    "\n",
    "def split_data(file):\n",
    "    data = pd.read_csv(file)\n",
    "    print('Splitting csv file')\n",
    "    a1, a2 = data.iloc[:, :3], data.iloc[:, 3:]\n",
    "    a2.columns = ['1', '2', '3']\n",
    "    a1.to_csv('a1.csv', index=False)\n",
    "    a2.to_csv('a2.csv', index=False)\n",
    "    print('Done!')\n",
    "    return True\n",
    "\n",
    "\n",
    "def check_csv():\n",
    "    lst = ['a.csv', 'a1.csv', 'a2.csv']\n",
    "    for item in lst:\n",
    "        print(item)\n",
    "        curr = pd.read_csv(item)\n",
    "        print(curr.head())\n",
    "        print('--------------')\n",
    "    return True\n",
    "\n",
    "\n",
    "def combine_data(file1, file2):\n",
    "    f1 = pd.read_csv(file1)\n",
    "    f2 = pd.read_csv(file2)\n",
    "    f2.columns = ['4', '5', '6']\n",
    "    print('Combining files')\n",
    "    b = pd.concat([f1, f2], axis=1)\n",
    "    b.to_csv('b.csv', index=False)\n",
    "    print('Combining done!')\n",
    "    return True\n",
    "\n",
    "def upload_file(file):\n",
    "    bucket_name = 'lingesh-k-bucket1' # your-bucket-name\n",
    "    s3 = boto3.client('s3', aws_access_key_id= KEY_ID , aws_secret_access_key= SECRET_KEY)\n",
    "    key = file\n",
    "    s3.upload_file(file, bucket_name, file)\n",
    "    return True"
   ]
  },
  {
   "cell_type": "code",
   "execution_count": 2,
   "metadata": {},
   "outputs": [
    {
     "name": "stdout",
     "output_type": "stream",
     "text": [
      "File in bucket: a.csv\n"
     ]
    }
   ],
   "source": [
    "session = Session(aws_access_key_id= KEY_ID,\n",
    "              aws_secret_access_key= SECRET_KEY)\n",
    "s3 = session.resource('s3')\n",
    "your_bucket = s3.Bucket('lingesh-k-bucket1')\n",
    "for s3_file in your_bucket.objects.all():\n",
    "    print(f\"File in bucket: {s3_file.key}\") # prints the contents of bucket\n",
    "    file = str(s3_file.key)"
   ]
  },
  {
   "cell_type": "code",
   "execution_count": 3,
   "metadata": {},
   "outputs": [
    {
     "name": "stdout",
     "output_type": "stream",
     "text": [
      "a.csv in Bucket!\n",
      "Splitting csv file\n",
      "Done!\n",
      "a.csv\n",
      "   1           2                             3         4               5  \\\n",
      "0  0  1467821085  Mon Apr 06 22:22:26 PDT 2009  NO_QUERY  crzy_cdn_bulas   \n",
      "1  0  1467821338  Mon Apr 06 22:22:30 PDT 2009  NO_QUERY     justnetgirl   \n",
      "2  0  1467821455  Mon Apr 06 22:22:32 PDT 2009  NO_QUERY      CiaraRenee   \n",
      "3  0  1467821715  Mon Apr 06 22:22:37 PDT 2009  NO_QUERY          deelau   \n",
      "4  0  1467822384  Mon Apr 06 22:22:47 PDT 2009  NO_QUERY     Lindsey0920   \n",
      "\n",
      "                                                   6  \n",
      "0  our duck and chicken are taking wayyy too long...  \n",
      "1  Put vacation photos online (They were so cute)...  \n",
      "2                                      I need a hug   \n",
      "3  @andywana Not sure what they are, only that th...  \n",
      "4             @oanhLove I hate when that happens...   \n",
      "--------------\n",
      "a1.csv\n",
      "   1           2                             3\n",
      "0  0  1467821085  Mon Apr 06 22:22:26 PDT 2009\n",
      "1  0  1467821338  Mon Apr 06 22:22:30 PDT 2009\n",
      "2  0  1467821455  Mon Apr 06 22:22:32 PDT 2009\n",
      "3  0  1467821715  Mon Apr 06 22:22:37 PDT 2009\n",
      "4  0  1467822384  Mon Apr 06 22:22:47 PDT 2009\n",
      "--------------\n",
      "a2.csv\n",
      "          1               2                                                  3\n",
      "0  NO_QUERY  crzy_cdn_bulas  our duck and chicken are taking wayyy too long...\n",
      "1  NO_QUERY     justnetgirl  Put vacation photos online (They were so cute)...\n",
      "2  NO_QUERY      CiaraRenee                                      I need a hug \n",
      "3  NO_QUERY          deelau  @andywana Not sure what they are, only that th...\n",
      "4  NO_QUERY     Lindsey0920             @oanhLove I hate when that happens... \n",
      "--------------\n",
      "Combining files\n",
      "Combining done!\n",
      "b.csv\n",
      "   1           2                             3         4               5  \\\n",
      "0  0  1467821085  Mon Apr 06 22:22:26 PDT 2009  NO_QUERY  crzy_cdn_bulas   \n",
      "1  0  1467821338  Mon Apr 06 22:22:30 PDT 2009  NO_QUERY     justnetgirl   \n",
      "2  0  1467821455  Mon Apr 06 22:22:32 PDT 2009  NO_QUERY      CiaraRenee   \n",
      "3  0  1467821715  Mon Apr 06 22:22:37 PDT 2009  NO_QUERY          deelau   \n",
      "4  0  1467822384  Mon Apr 06 22:22:47 PDT 2009  NO_QUERY     Lindsey0920   \n",
      "\n",
      "                                                   6  \n",
      "0  our duck and chicken are taking wayyy too long...  \n",
      "1  Put vacation photos online (They were so cute)...  \n",
      "2                                      I need a hug   \n",
      "3  @andywana Not sure what they are, only that th...  \n",
      "4             @oanhLove I hate when that happens...   \n",
      "Writing the files\n",
      "Writing done!\n"
     ]
    }
   ],
   "source": [
    "print(f\"{file} in Bucket!\")\n",
    "split_data(file)\n",
    "check_csv()\n",
    "combine_data('a1.csv', 'a2.csv')\n",
    "b = pd.read_csv('b.csv')\n",
    "print('b.csv')\n",
    "print(b.head())\n",
    "\n",
    "# Uploading files to S3 Bucket\n",
    "print('Writing the files')\n",
    "for item in ['a1.csv', 'a2.csv', 'b.csv']:\n",
    "    upload_file(item)\n",
    "print('Writing done!')"
   ]
  }
 ],
 "metadata": {
  "kernelspec": {
   "display_name": "Python 3",
   "language": "python",
   "name": "python3"
  },
  "language_info": {
   "codemirror_mode": {
    "name": "ipython",
    "version": 3
   },
   "file_extension": ".py",
   "mimetype": "text/x-python",
   "name": "python",
   "nbconvert_exporter": "python",
   "pygments_lexer": "ipython3",
   "version": "3.7.3"
  }
 },
 "nbformat": 4,
 "nbformat_minor": 2
}
