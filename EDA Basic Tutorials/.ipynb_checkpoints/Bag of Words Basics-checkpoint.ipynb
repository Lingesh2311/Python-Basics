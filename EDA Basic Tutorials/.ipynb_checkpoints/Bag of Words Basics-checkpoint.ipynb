{
 "cells": [
  {
   "cell_type": "markdown",
   "metadata": {},
   "source": [
    "## Bag of Words\n",
    "In Machine learning, to represent text we need to convert them to some numerical quantity. This numerical representation of the text is known as the **feature vector**. \n",
    "\n",
    "Bag of words model is one for the feature extraction of the text. \n",
    "\n",
    "### Feature Extraction\n",
    "The bag of words model ignores the grammar and the order of the words. "
   ]
  },
  {
   "cell_type": "code",
   "execution_count": 1,
   "metadata": {},
   "outputs": [
    {
     "name": "stdout",
     "output_type": "stream",
     "text": [
      "[[1 1 0 1 0 0 1 0 0 0 0 1 1 0 0 0 0 0 0 1 0 0 0 0 0 0 0 0 1 0 0 0 0 0 0]\n",
      " [0 0 1 0 0 0 0 1 1 0 0 0 0 0 1 1 0 0 0 1 0 0 0 1 0 0 0 0 0 1 0 0 0 1 1]\n",
      " [0 0 0 0 0 1 0 0 0 0 1 0 0 0 0 0 0 0 0 0 1 0 0 0 0 0 1 0 1 0 0 0 0 0 0]\n",
      " [0 0 0 0 0 0 0 0 0 1 0 0 0 0 1 0 1 0 0 0 0 1 1 0 1 0 0 1 0 0 0 1 1 0 0]\n",
      " [0 0 0 0 1 0 0 0 0 0 0 0 0 1 0 0 0 1 1 0 0 0 0 0 0 1 0 0 0 0 1 1 0 0 0]]\n",
      "{'all': 0, 'my': 19, 'dogs': 6, 'and': 1, 'cats': 3, 'in': 12, 'the': 28, 'house': 11, 'when': 34, 'cat': 2, 'sits': 23, 'down': 7, 'they': 29, 'looks': 15, 'like': 14, 'fluffy': 8, 'toy': 33, 'dog': 5, 'from': 10, 'outer': 20, 'space': 26, 'sunshine': 27, 'loves': 16, 'to': 32, 'sit': 22, 'this': 31, 'for': 9, 'some': 24, 'reason': 21, 'make': 17, 'me': 18, 'think': 30, 'sometimes': 25, 'doesn': 4, 'it': 13}\n"
     ]
    }
   ],
   "source": [
    "from sklearn.feature_extraction.text import CountVectorizer\n",
    "\n",
    "corpus = [\n",
    "'All my dogs and cats in the house',\n",
    "'When my cat sits down, they looks like a fluffy toy!',\n",
    "'The dog from outer space',\n",
    "'Sunshine loves to sit like this for some reason.',\n",
    "'This make me think sometimes, doesn\\'t it?'\n",
    "]\n",
    "\n",
    "vectorizer = CountVectorizer()\n",
    "print( vectorizer.fit_transform(corpus).todense() )\n",
    "print( vectorizer.vocabulary_ )"
   ]
  }
 ],
 "metadata": {
  "kernelspec": {
   "display_name": "Python 3",
   "language": "python",
   "name": "python3"
  },
  "language_info": {
   "codemirror_mode": {
    "name": "ipython",
    "version": 3
   },
   "file_extension": ".py",
   "mimetype": "text/x-python",
   "name": "python",
   "nbconvert_exporter": "python",
   "pygments_lexer": "ipython3",
   "version": "3.7.3"
  }
 },
 "nbformat": 4,
 "nbformat_minor": 2
}
