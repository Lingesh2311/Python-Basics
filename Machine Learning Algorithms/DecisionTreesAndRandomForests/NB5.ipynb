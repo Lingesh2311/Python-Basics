{
 "nbformat": 4,
 "nbformat_minor": 2,
 "metadata": {
  "language_info": {
   "name": "python",
   "codemirror_mode": {
    "name": "ipython",
    "version": 3
   },
   "version": "3.7.3"
  },
  "orig_nbformat": 2,
  "file_extension": ".py",
  "mimetype": "text/x-python",
  "name": "python",
  "npconvert_exporter": "python",
  "pygments_lexer": "ipython3",
  "version": 3
 },
 "cells": [
  {
   "cell_type": "markdown",
   "execution_count": null,
   "metadata": {},
   "outputs": [],
   "source": [
    "### Decision Tree Regression - Regression Tree\n",
    "\n",
    "Source: [geeksforgeeks](https://www.geeksforgeeks.org/python-decision-tree-regression-using-sklearn/)\n",
    "We will generate a regression tree using a synthetic dataset. The procedure is to find the mean of the sample subspace generated after partition. For achieving this we use the `sklearn.tree.DecisionTreeRegressor` model"
   ]
  },
  {
   "cell_type": "code",
   "execution_count": 1,
   "metadata": {},
   "outputs": [],
   "source": [
    "# Library imports\n",
    "import numpy as np\n",
    "import matplotlib.pyplot as plt\n",
    "import pandas as pd"
   ]
  },
  {
   "cell_type": "code",
   "execution_count": 2,
   "metadata": {},
   "outputs": [
    {
     "name": "stdout",
     "output_type": "stream",
     "text": "[['Asset Flip' '100' '1000']\n ['Text Based' '500' '3000']\n ['Visual Novel' '1500' '5000']\n ['2D Pixel Art' '3500' '8000']\n ['2D Vector Art' '5000' '6500']\n ['Strategy' '6000' '7000']\n ['First Person Shooter' '8000' '15000']\n ['Simulator' '9500' '20000']\n ['Racing' '12000' '21000']\n ['RPG' '14000' '25000']\n ['Sandbox' '15500' '27000']\n ['Open-World' '16500' '30000']\n ['MMOFPS' '25000' '52000']\n ['MMORPG' '30000' '80000']]\n"
    }
   ],
   "source": [
    "dataset = np.array( \n",
    "[['Asset Flip', 100, 1000], \n",
    "['Text Based', 500, 3000], \n",
    "['Visual Novel', 1500, 5000], \n",
    "['2D Pixel Art', 3500, 8000], \n",
    "['2D Vector Art', 5000, 6500], \n",
    "['Strategy', 6000, 7000], \n",
    "['First Person Shooter', 8000, 15000], \n",
    "['Simulator', 9500, 20000], \n",
    "['Racing', 12000, 21000], \n",
    "['RPG', 14000, 25000], \n",
    "['Sandbox', 15500, 27000], \n",
    "['Open-World', 16500, 30000], \n",
    "['MMOFPS', 25000, 52000], \n",
    "['MMORPG', 30000, 80000] \n",
    "]) \n",
    "  \n",
    "# print the dataset \n",
    "print(dataset)"
   ]
  },
  {
   "cell_type": "code",
   "execution_count": 3,
   "metadata": {},
   "outputs": [
    {
     "name": "stdout",
     "output_type": "stream",
     "text": "Independent Variable:\n[[  100]\n [  500]\n [ 1500]\n [ 3500]\n [ 5000]\n [ 6000]\n [ 8000]\n [ 9500]\n [12000]\n [14000]\n [15500]\n [16500]\n [25000]\n [30000]]\nTarget:\n[ 1000  3000  5000  8000  6500  7000 15000 20000 21000 25000 27000 30000\n 52000 80000]\n"
    }
   ],
   "source": [
    "X = dataset[:,1:2].astype(int)\n",
    "Y = dataset[:,2].astype(int)\n",
    "print(f'Independent Variable:\\n{X}')\n",
    "print(f'Target:\\n{Y}')"
   ]
  },
  {
   "cell_type": "code",
   "execution_count": 4,
   "metadata": {},
   "outputs": [
    {
     "data": {
      "text/plain": "DecisionTreeRegressor(ccp_alpha=0.0, criterion='mse', max_depth=None,\n                      max_features=None, max_leaf_nodes=None,\n                      min_impurity_decrease=0.0, min_impurity_split=None,\n                      min_samples_leaf=1, min_samples_split=2,\n                      min_weight_fraction_leaf=0.0, presort='deprecated',\n                      random_state=42, splitter='best')"
     },
     "execution_count": 4,
     "metadata": {},
     "output_type": "execute_result"
    }
   ],
   "source": [
    "# Fit the tree to the dataset\n",
    "from sklearn.tree import DecisionTreeRegressor\n",
    "model = DecisionTreeRegressor(random_state=42)\n",
    "model.fit(X, Y)"
   ]
  },
  {
   "cell_type": "code",
   "execution_count": 5,
   "metadata": {},
   "outputs": [
    {
     "name": "stdout",
     "output_type": "stream",
     "text": "Predicted Price for 212: 1000\nPredicted Price for 329: 3000\nPredicted Price for 353: 3000\nPredicted Price for 366: 3000\nPredicted Price for 237: 1000\nPredicted Price for 201: 1000\nPredicted Price for 364: 3000\nPredicted Price for 174: 1000\nPredicted Price for 98: 1000\nPredicted Price for 155: 1000\n"
    }
   ],
   "source": [
    "for _ in range(10):\n",
    "    val = np.random.randint(low=20,high=400)\n",
    "    ypred = model.predict(np.array(val).reshape(1,-1))\n",
    "    print(f'Predicted Price for {val}: {int(ypred[0])}')"
   ]
  },
  {
   "cell_type": "code",
   "execution_count": 6,
   "metadata": {},
   "outputs": [
    {
     "data": {
      "image/png": "[encoded data removed]",
      "text/plain": "<Figure size 720x720 with 1 Axes>"
     },
     "metadata": {
      "needs_background": "light"
     },
     "output_type": "display_data"
    }
   ],
   "source": [
    "X_grid = np.arange(min(X), max(X), 0.01)\n",
    "X_grid = X_grid.reshape(len(X_grid), 1)\n",
    "plt.figure(figsize=(10,10))\n",
    "plt.scatter(X, Y, color='red', label='Actual Value')\n",
    "plt.plot(X_grid, model.predict(X_grid), color='blue', label='Predicted Value')\n",
    "plt.title('Profit vs. Production Cost')\n",
    "plt.xlabel('Production Cost'); plt.ylabel('Profit');\n",
    "plt.show()"
   ]
  },
  {
   "cell_type": "code",
   "execution_count": 7,
   "metadata": {},
   "outputs": [],
   "source": [
    "# import export_graphviz \n",
    "from sklearn.tree import export_graphviz\n",
    "\n",
    "# export the decision tree to a tree.dot file \n",
    "# for visualizing the plot easily anywhere \n",
    "export_graphviz(model, out_file ='tree.dot', \n",
    "               feature_names =['Production Cost'])"
   ]
  }
 ]
}