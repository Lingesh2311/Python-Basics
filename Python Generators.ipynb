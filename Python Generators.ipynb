{
 "cells": [
  {
   "cell_type": "markdown",
   "metadata": {},
   "source": [
    "<h1> PYTHON GENERATORS </h1>\n",
    "<p>\n",
    "    In general, we are forced to run over a huge amound of overhead while\n",
    "    building an iterator in Python. In general the <code>__iter()__</code> and\n",
    "    the <code>__next()__</code> methods are used to keep track of the internal\n",
    "    states and will raise <code>StopIteration</code> when no value is returned. \n",
    "</p>\n",
    "<strong>DISADVANTAGES</strong>\n",
    "\n",
    "- Lengthy and Counter intuitve approach\n",
    "- Time consuming\n",
    "\n",
    "<strong>Iterator Uses</strong>\n",
    "\n",
    "- Large Data sets\n",
    "- Memory-intensive Operations\n",
    "\n",
    "<h2> Iterators </h2>\n",
    "<p>\n",
    "    They are values that can be iterated over with an iterable. They are\n",
    "    analogous to ticket vending machines. Consider you go to a movie theatre\n",
    "    and you need a ticket. It prints one ticket at a time, remembers the state/\n",
    "    unique code(number) associated with the ticket.\n",
    "</p>\n",
    "\n",
    "__Characteristics of Iterators__\n",
    "\n",
    "- Maintains the state - In case of tickets, it doesn't know how many tickets it will print but just knows the number it should print next.\n",
    "- Uses \"Lazy evaluvation\" - Suppose we need the ticket to mention the time it was printed. It will evaluvate the time only when it is \"trigerred\" to do so. This is why it's an instance of \"Lazy evaluvation\".\n",
    "- Doesn't Store sequence in memory\n",
    "\n",
    "<p>\n",
    "    In the case where you have very large data sets, files that we want to\n",
    "    process or processing an infinite stream of data it makes sense to use\n",
    "    lazy evaluvation and only evaluvate one at a time. \n",
    "</p>\n",
    "\n",
    "__Next() method__\n",
    "\n",
    "- Manually iterate through all the items of an iterator\n",
    "- When we reach the end and no more data is returned, it will raise <code>StopIteration</code>\n",
    "    "
   ]
  },
  {
   "cell_type": "code",
   "execution_count": 1,
   "metadata": {},
   "outputs": [
    {
     "name": "stdout",
     "output_type": "stream",
     "text": [
      "1\n",
      "2\n",
      "3\n",
      "4\n",
      "5\n"
     ]
    }
   ],
   "source": [
    "# Define a list\n",
    "a = [1,2,3,4,5]\n",
    "\n",
    "# Lists can generate an iterator using the iter() function \n",
    "iter_list = iter(a)\n",
    "\n",
    "# Iterate through each element of the iterator using the next() method\n",
    "\n",
    "# Prints 1\n",
    "print(next(iter_list))\n",
    "\n",
    "# Prints 2\n",
    "print(next(iter_list))\n",
    "\n",
    "# Prints 3\n",
    "print(next(iter_list))\n",
    "\n",
    "# Prints 4\n",
    "print(next(iter_list))\n",
    "\n",
    "# Prints 5\n",
    "print(next(iter_list))\n",
    "\n",
    "# This will raise an error!\n",
    "#print(next(iter_list))"
   ]
  },
  {
   "cell_type": "markdown",
   "metadata": {},
   "source": [
    "<h3> Automatically looping through the list </h3>\n",
    "<p>\n",
    "    We can use <code>for</code> loops to iterate through an\n",
    "    <code>iterable</code> automatically.\n",
    "</p>\n",
    "<p>\n",
    "    The general pseudocode for the <code>for</code> loop is as follows:<br>\n",
    "\n",
    "<code>for element in iterable:</code>\n",
    "<br>\n",
    "<code>#Do something with the element</code>\n",
    "</p>"
   ]
  },
  {
   "cell_type": "markdown",
   "metadata": {},
   "source": [
    "<h2> Generator Functions </h2>\n",
    "\n",
    "- Returns a Generator Object\n",
    "\n",
    "<h2> Generator Object </h2>\n",
    "\n",
    " - Uses lazy evaluvation to yield sequences"
   ]
  },
  {
   "cell_type": "code",
   "execution_count": 2,
   "metadata": {},
   "outputs": [
    {
     "name": "stdout",
     "output_type": "stream",
     "text": [
      "<class 'list'>\n",
      "[4, 16]\n"
     ]
    }
   ],
   "source": [
    "# A general implementation using for loop\n",
    "def even_squares(num):\n",
    "    '''\n",
    "    Prints the non-zero square of numbers less than or equal to num\n",
    "    '''\n",
    "    answer = [] # an empty list\n",
    "    for i in range(num+1):\n",
    "        if i%2 == 0 and i != 0:    \n",
    "            answer.append(i**2) # append square of even integers\n",
    "    return answer\n",
    "\n",
    "num = 4\n",
    "print(type(even_squares(num))) # This is a list!\n",
    "print(even_squares(num)) # Prints the squares of 2 and 4"
   ]
  },
  {
   "cell_type": "code",
   "execution_count": 3,
   "metadata": {},
   "outputs": [
    {
     "name": "stdout",
     "output_type": "stream",
     "text": [
      "<class 'generator'>\n",
      "4\n",
      "16\n",
      "[4, 16]\n"
     ]
    }
   ],
   "source": [
    "# Generator Function\n",
    "def even_squares_generator(num):\n",
    "    '''\n",
    "    Implementation of the yield() method\n",
    "    '''\n",
    "    for i in range(num+1):\n",
    "        if i%2==0 and i!=0:\n",
    "            yield(i**2) # New method yield()\n",
    "\n",
    "# Generator in action\n",
    "num = 4\n",
    "print(type(even_squares_generator(num))) # This is a generator!\n",
    "answer = even_squares_generator(num) # Creates the answer\n",
    "\n",
    "# See how yield() works!\n",
    "print(next(answer)) # Prints 4\n",
    "print(next(answer)) # Prints 16 \n",
    "\n",
    "# Directly getting the answer\n",
    "print(list(even_squares_generator(num))) "
   ]
  },
  {
   "cell_type": "markdown",
   "metadata": {},
   "source": [
    "__OBSERVATION:__\n",
    "\n",
    "- A generator contains one/more <code>yield</code> statement\n",
    "- When called, it returns the object(iterator) but does not start exectution automatically(_Lazy execution_)\n",
    "- <code>__iter()__</code> and <code>__next()__</code> are automatically implemented, so we can iterate through the items using <code>next()</code>. Also we can use <code>.next()</code> as an alternative.\n",
    "<p>\n",
    "If a function contains at least one <code>yield</code> statement (it may contain other yield or return statements), it becomes a generator function. Both <code>yield</code> and <code>return</code> will return some value from a function.\n",
    "</p>\n",
    "<p>\n",
    "The difference is that, while a return statement terminates a function entirely, yield statement pauses the function saving all its states and later continues from there on successive calls.\n",
    "</p>"
   ]
  },
  {
   "cell_type": "markdown",
   "metadata": {},
   "source": [
    "<h2> GENERATOR EXPRESSIONS </h2>\n",
    "<p>\n",
    "    They are a way by which Generator objects are created. This can be done\n",
    "    using a way which is so similar to list comprehensions.\n",
    "</p>\n",
    "<p>\n",
    "    However you must know the basic difference between a list comprehension and a generator expression which returns a generator obkect without storing any sequence in memory whereas the latter returns a list.\n",
    "</p>"
   ]
  },
  {
   "cell_type": "code",
   "execution_count": 4,
   "metadata": {},
   "outputs": [
    {
     "name": "stdout",
     "output_type": "stream",
     "text": [
      "list of items:['APPLE', 'TOMATO', 'MAIZE', 'ONION']\n",
      "Now generator is active..\n",
      "APPLE\n",
      "TOMATO\n",
      "MAIZE\n",
      "ONION\n"
     ]
    }
   ],
   "source": [
    "# Generator expressions\n",
    "collection = ['apple','tomato','maize','onion']\n",
    "\n",
    "# List comprehension\n",
    "list_1 = [item.upper() for item in collection]\n",
    "print('list of items:{}'.format(list_1))\n",
    "\n",
    "\n",
    "# Generator Expression\n",
    "thing = (item.upper() for item in collection)\n",
    "print('Now generator is active..')\n",
    "\n",
    "print(next(thing)) # Prints APPLE\n",
    "print(next(thing)) # Prints TOMATO\n",
    "print(next(thing)) # Prints MAIZE\n",
    "print(next(thing)) # Prints ONION"
   ]
  },
  {
   "cell_type": "code",
   "execution_count": 5,
   "metadata": {},
   "outputs": [
    {
     "name": "stdout",
     "output_type": "stream",
     "text": [
      "4\n",
      "16\n",
      "[4, 16]\n"
     ]
    }
   ],
   "source": [
    "# Generator Expression\n",
    "'''\n",
    "This is the implementation of the even_square_generator(num) using\n",
    "a generator expression\n",
    "'''\n",
    "num = 4\n",
    "even_square_object = (n**2 for n in range(num+1) if n%2 == 0 and n!=0) \n",
    "\n",
    "print(next(even_square_object)) # Prints 4\n",
    "print(next(even_square_object)) # Prints 16\n",
    "\n",
    "# Why redefine?\n",
    "even_square_object = (n**2 for n in range(num+1) if n%2 == 0 and n!=0) \n",
    "print(list(even_square_object)) # Prints the list"
   ]
  },
  {
   "cell_type": "code",
   "execution_count": 8,
   "metadata": {},
   "outputs": [
    {
     "name": "stdout",
     "output_type": "stream",
     "text": [
      "1\n",
      "1\n",
      "2\n",
      "3\n",
      "5\n",
      "8\n",
      "13\n",
      "21\n",
      "34\n",
      "55\n"
     ]
    }
   ],
   "source": [
    "def fib_generator():\n",
    "    '''\n",
    "    Generates numbers in the Fibonacci Sequence\n",
    "    '''\n",
    "    trailing, lead = 0, 1\n",
    "    while True:\n",
    "        yield lead\n",
    "        trailing, lead = lead, trailing+lead\n",
    "        \n",
    "num = 10 # Number of fibonacci numbers\n",
    "fib_obj = fib_generator() # Create a generator object\n",
    "for _ in range(num):\n",
    "    print(next(fib_obj)) # Iterate through the values"
   ]
  },
  {
   "cell_type": "markdown",
   "metadata": {},
   "source": [
    "__Furthur Resources:__\n",
    "\n",
    "- <a href='https://www.programiz.com/python-programming/generator'> Python Generators </a>\n",
    "- <a href='https://www.programiz.com/python-programming/iterator'> Python Iterators </a>"
   ]
  }
 ],
 "metadata": {
  "kernelspec": {
   "display_name": "Python 3",
   "language": "python",
   "name": "python3"
  },
  "language_info": {
   "codemirror_mode": {
    "name": "ipython",
    "version": 3
   },
   "file_extension": ".py",
   "mimetype": "text/x-python",
   "name": "python",
   "nbconvert_exporter": "python",
   "pygments_lexer": "ipython3",
   "version": "3.7.1"
  }
 },
 "nbformat": 4,
 "nbformat_minor": 2
}
